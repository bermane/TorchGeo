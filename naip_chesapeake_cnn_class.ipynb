{
 "cells": [
  {
   "cell_type": "code",
   "execution_count": 1,
   "metadata": {},
   "outputs": [],
   "source": [
    "# load packages\n",
    "import os\n",
    "import tempfile\n",
    "import torch\n",
    "\n",
    "import planetary_computer\n",
    "from torch.utils.data import DataLoader\n",
    "\n",
    "import rioxarray as rxr\n",
    "import matplotlib.pyplot as plt\n",
    "from rioxarray.merge import merge_arrays\n",
    "import geopandas as gpd\n",
    "\n",
    "from torchgeo.datasets import NAIP, ChesapeakeDE, stack_samples\n",
    "from torchgeo.datasets.utils import download_url\n",
    "from torchgeo.samplers import RandomGeoSampler"
   ]
  },
  {
   "cell_type": "code",
   "execution_count": 2,
   "metadata": {},
   "outputs": [
    {
     "name": "stdout",
     "output_type": "stream",
     "text": [
      "Using downloaded and verified file: /var/folders/61/b_g16g9n7h1864j7mrkvshbw0000gn/T/naip/m_3807511_ne_18_060_20181104.tif\n",
      "Using downloaded and verified file: /var/folders/61/b_g16g9n7h1864j7mrkvshbw0000gn/T/naip/m_3807511_se_18_060_20181104.tif\n",
      "Using downloaded and verified file: /var/folders/61/b_g16g9n7h1864j7mrkvshbw0000gn/T/naip/m_3807512_nw_18_060_20180815.tif\n",
      "Using downloaded and verified file: /var/folders/61/b_g16g9n7h1864j7mrkvshbw0000gn/T/naip/m_3807512_sw_18_060_20180815.tif\n"
     ]
    }
   ],
   "source": [
    "# download NAIP imagery\n",
    "naip_root = os.path.join(tempfile.gettempdir(), 'naip')\n",
    "naip_url = (\n",
    "    'https://naipeuwest.blob.core.windows.net/naip/v002/de/2018/de_060cm_2018/38075/'\n",
    ")\n",
    "tiles = [\n",
    "    'm_3807511_ne_18_060_20181104.tif',\n",
    "    'm_3807511_se_18_060_20181104.tif',\n",
    "    'm_3807512_nw_18_060_20180815.tif',\n",
    "    'm_3807512_sw_18_060_20180815.tif',\n",
    "]\n",
    "for tile in tiles:\n",
    "    url = planetary_computer.sign(naip_url + tile)\n",
    "    download_url(url, naip_root, filename=tile)\n",
    "\n",
    "naip = NAIP(naip_root)"
   ]
  },
  {
   "cell_type": "code",
   "execution_count": 3,
   "metadata": {},
   "outputs": [],
   "source": [
    "# download corresponding Chesapeake labels\n",
    "chesapeake_root = os.path.join(tempfile.gettempdir(), 'chesapeake')\n",
    "os.makedirs(chesapeake_root, exist_ok=True)\n",
    "chesapeake = ChesapeakeDE(chesapeake_root, crs=naip.crs, res=naip.res, download=True)"
   ]
  },
  {
   "cell_type": "code",
   "execution_count": 4,
   "metadata": {},
   "outputs": [],
   "source": [
    "# create an intersection dataset that can sample from both datasets simultaneously\n",
    "dataset = naip & chesapeake"
   ]
  },
  {
   "cell_type": "code",
   "execution_count": 5,
   "metadata": {},
   "outputs": [],
   "source": [
    "# create random sample\n",
    "sampler = RandomGeoSampler(dataset, size=1000, length=10)"
   ]
  },
  {
   "cell_type": "code",
   "execution_count": 6,
   "metadata": {},
   "outputs": [],
   "source": [
    "# create dataloader\n",
    "dataloader = DataLoader(dataset, sampler=sampler, collate_fn=stack_samples)"
   ]
  },
  {
   "cell_type": "code",
   "execution_count": 9,
   "metadata": {},
   "outputs": [
    {
     "name": "stdout",
     "output_type": "stream",
     "text": [
      "| ID | GPU | MEM |\n",
      "------------------\n"
     ]
    }
   ],
   "source": []
  },
  {
   "cell_type": "code",
   "execution_count": null,
   "metadata": {},
   "outputs": [],
   "source": []
  }
 ],
 "metadata": {
  "kernelspec": {
   "display_name": ".venv",
   "language": "python",
   "name": "python3"
  },
  "language_info": {
   "codemirror_mode": {
    "name": "ipython",
    "version": 3
   },
   "file_extension": ".py",
   "mimetype": "text/x-python",
   "name": "python",
   "nbconvert_exporter": "python",
   "pygments_lexer": "ipython3",
   "version": "3.12.6"
  }
 },
 "nbformat": 4,
 "nbformat_minor": 2
}
